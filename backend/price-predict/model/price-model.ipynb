{
 "cells": [
  {
   "cell_type": "code",
   "id": "initial_id",
   "metadata": {
    "collapsed": true,
    "ExecuteTime": {
     "end_time": "2024-09-24T15:55:50.654324Z",
     "start_time": "2024-09-24T15:55:49.967327Z"
    }
   },
   "source": [
    "import os\n",
    "\n",
    "import sklearn\n",
    "import numpy\n",
    "import psycopg2\n",
    "import dotenv"
   ],
   "outputs": [],
   "execution_count": 2
  },
  {
   "metadata": {
    "ExecuteTime": {
     "end_time": "2024-09-24T15:55:54.647994Z",
     "start_time": "2024-09-24T15:55:52.356992Z"
    }
   },
   "cell_type": "code",
   "source": [
    "dotenv.load_dotenv()\n",
    "params = {\n",
    "    'database': os.getenv(\"DB_DATABASE\"),\n",
    "    'user': os.getenv(\"DB_USER\"),\n",
    "    'password': os.getenv(\"DB_PASSWORD\"),\n",
    "    'host': os.getenv(\"DB_HOST\"),\n",
    "    'port': os.getenv(\"DB_PORT\"),\n",
    "}\n",
    "conn = psycopg2.connect(**params)"
   ],
   "id": "a235b6fcd8b9da61",
   "outputs": [],
   "execution_count": 3
  },
  {
   "metadata": {},
   "cell_type": "code",
   "outputs": [],
   "execution_count": null,
   "source": "",
   "id": "a584e44b6b7a4d39"
  }
 ],
 "metadata": {
  "kernelspec": {
   "display_name": "Python 3",
   "language": "python",
   "name": "python3"
  },
  "language_info": {
   "codemirror_mode": {
    "name": "ipython",
    "version": 2
   },
   "file_extension": ".py",
   "mimetype": "text/x-python",
   "name": "python",
   "nbconvert_exporter": "python",
   "pygments_lexer": "ipython2",
   "version": "2.7.6"
  }
 },
 "nbformat": 4,
 "nbformat_minor": 5
}
